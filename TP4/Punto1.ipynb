{
 "cells": [
  {
   "cell_type": "code",
   "execution_count": null,
   "metadata": {},
   "outputs": [],
   "source": [
    "import pandas as pd\n",
    "import tweepy\n",
    "import json\n",
    "from collections import Counter"
   ]
  },
  {
   "cell_type": "code",
   "execution_count": null,
   "metadata": {},
   "outputs": [],
   "source": [
    "# Authenticate to Twitter\n",
    "auth = tweepy.OAuthHandler('CoJ3mabd3jCfxoIFdzss7V0tZ', '2JGFiUIMCRej8qpqJx4GaWgZyP1325yqLqRzX6KN8KJlGp8Rv6')\n",
    "auth.set_access_token('227509490-aoXo6ClrwpEAt6Atl7qzIll34lNcK88juEGcQmRd', 'Lbu74wPGh1vqBS5eTQRceJ6O9VSv4xSpX886Y6pmGd3dt')\n",
    "api = tweepy.API(auth)"
   ]
  },
  {
   "cell_type": "markdown",
   "metadata": {},
   "source": [
    "## Punto 1\n",
    "\n",
    "Tomando datos de la red social Twitter, al menos 200 tweets, realizar un script para\n",
    "recolectar, procesar y visualizar los datos con las siguientes restricciones:\n",
    "- Los tres trends más RT del momento.\n",
    "- Listar nombres de usuarios que publicaron con los hashtag de los trends del punto anterior.\n",
    "- ¿Cuáles son las cinco palabras más utilizadas en los tweets del primer ítem?\n",
    "- Listar los primeros 10 usuarios con mayor cantidad de seguidores.\n",
    "- Listar la ubicación (o en su defecto time-zone) del tweet.\n",
    "- Listar los cinco tweets más populares.\n",
    "- Listar a los seguidores del autor del tweet más popular."
   ]
  },
  {
   "cell_type": "code",
   "execution_count": null,
   "metadata": {},
   "outputs": [],
   "source": [
    "trends = api.trends_place(1)\n",
    "top_3_trending = sorted(trends[0]['trends'], key = lambda i: 0 if i['tweet_volume'] == None else i['tweet_volume'], reverse=True)[:3]\n",
    "topicos = [t['name'] for t in top_3_trending]\n",
    "print(\"1°: \" + topicos[0])\n",
    "print(\"2°: \" + topicos[1])\n",
    "print(\"3°: \" + topicos[2])"
   ]
  },
  {
   "cell_type": "code",
   "execution_count": null,
   "metadata": {},
   "outputs": [],
   "source": [
    "tweets_por_topico = [(api.search(q=trend['query']), trend['query']) for trend in top_3_trending]\n",
    "lista = []\n",
    "for resultado in tweets_por_topico:\n",
    "    for r in resultado[0]:\n",
    "        lista.append({'topic': resultado[1],\n",
    "                      'usuario':r.user.screen_name,\n",
    "                      'tweet':r.text,\n",
    "                      'ubicacion':r.user.location,\n",
    "                      'cant_seguidores':r.user.followers_count,\n",
    "                      'timezone':r.user.time_zone})\n",
    "df = pd.DataFrame(data=lista)"
   ]
  },
  {
   "cell_type": "code",
   "execution_count": null,
   "metadata": {},
   "outputs": [],
   "source": []
  },
  {
   "cell_type": "markdown",
   "metadata": {},
   "source": [
    "### Listar nombres de usuarios que publicaron con los hashtag de los trends del punto anterior."
   ]
  },
  {
   "cell_type": "code",
   "execution_count": null,
   "metadata": {},
   "outputs": [],
   "source": [
    "resultado = df.apply(lambda row: \"El usuario \"+row.usuario+\" publico sobre el topico: \"+row.topic, axis=1)\n",
    "resultado"
   ]
  },
  {
   "cell_type": "markdown",
   "metadata": {},
   "source": [
    "### ¿Cuáles son las cinco palabras más utilizadas en los tweets del primer ítem?"
   ]
  },
  {
   "cell_type": "code",
   "execution_count": null,
   "metadata": {
    "scrolled": false
   },
   "outputs": [],
   "source": [
    "topicos = df.topic.unique()\n",
    "\n",
    "#Topico 1\n",
    "tweets_por_topico = df[df['topic'] == topicos[0]].tweet.to_list()\n",
    "resultado1 = []\n",
    "for t in tweets_por_topico:\n",
    "    resultado1 = resultado1 + t.split(' ')\n",
    "print(\"En el topico \"+topicos[0]+\" las palabras mas repetidas son:\" )\n",
    "print(sorted(Counter(resultado1).items(), key=lambda item: item[1], reverse=True)[:5])\n",
    "print(\"............................................................\")\n",
    "\n",
    "#Topico 2\n",
    "tweets_por_topico = df[df['topic'] == topicos[1]].tweet.to_list()\n",
    "resultado2 = []\n",
    "for t in tweets_por_topico:\n",
    "    resultado2 = resultado2 + t.split(' ')\n",
    "print(\"En el topico \"+topicos[1]+\" las palabras mas repetidas son:\" )\n",
    "print(sorted(Counter(resultado2).items(), key=lambda item: item[1], reverse=True)[:5])\n",
    "print(\"............................................................\")\n",
    "\n",
    "#Topico 3\n",
    "tweets_por_topico = df[df['topic'] == topicos[2]].tweet.to_list()\n",
    "resultado3 = []\n",
    "for t in tweets_por_topico:\n",
    "    resultado3 = resultado3 + t.split(' ')\n",
    "print(\"En el topico \"+topicos[2]+\" las palabras mas repetidas son:\" )\n",
    "print(sorted(Counter(resultado3).items(), key=lambda item: item[1], reverse=True)[:5])\n",
    "print(\"............................................................\")"
   ]
  },
  {
   "cell_type": "markdown",
   "metadata": {},
   "source": [
    "### Listar los primeros 10 usuarios con mayor cantidad de seguidores."
   ]
  },
  {
   "cell_type": "code",
   "execution_count": null,
   "metadata": {},
   "outputs": [],
   "source": [
    "df.sort_values(by=['cant_seguidores'], ascending=False)[['usuario','cant_seguidores']][:10]"
   ]
  },
  {
   "cell_type": "markdown",
   "metadata": {},
   "source": [
    "### Listar la ubicación (o en su defecto time-zone) del tweet."
   ]
  },
  {
   "cell_type": "code",
   "execution_count": null,
   "metadata": {},
   "outputs": [],
   "source": [
    "df[['tweet', 'ubicacion', 'timezone']]"
   ]
  },
  {
   "cell_type": "markdown",
   "metadata": {},
   "source": [
    "### Listar los cinco tweets más populares."
   ]
  },
  {
   "cell_type": "code",
   "execution_count": null,
   "metadata": {},
   "outputs": [],
   "source": [
    "tweets_populares_por_topico = [(api.search(q=trend['query'], result_type='popular'), trend['query']) for trend in top_3_trending]\n",
    "usuarios_top = []\n",
    "for resul in tweets_populares_por_topico:\n",
    "    for r in resul[0][:5]:\n",
    "        print(\".............\")\n",
    "        print(r.text)\n",
    "        usuarios_top.append(r.user.screen_name)\n",
    "        print(\".............\")"
   ]
  },
  {
   "cell_type": "markdown",
   "metadata": {},
   "source": [
    "### Listar a los seguidores del autor del tweet más popular."
   ]
  },
  {
   "cell_type": "code",
   "execution_count": null,
   "metadata": {},
   "outputs": [],
   "source": [
    "for usuario in usuarios_top:\n",
    "    usuario_mas_popular = usuario\n",
    "    seguidores = api.followers(usuario_mas_popular)\n",
    "    nombres = [seguidor.name for seguidor in seguidores]\n",
    "    print(\"Seguidores de \"+usuario)\n",
    "    print(nombres)\n",
    "    print(\"-------------------------------\")"
   ]
  },
  {
   "cell_type": "code",
   "execution_count": null,
   "metadata": {},
   "outputs": [],
   "source": []
  }
 ],
 "metadata": {
  "kernelspec": {
   "display_name": "Python 3",
   "language": "python",
   "name": "python3"
  },
  "language_info": {
   "codemirror_mode": {
    "name": "ipython",
    "version": 3
   },
   "file_extension": ".py",
   "mimetype": "text/x-python",
   "name": "python",
   "nbconvert_exporter": "python",
   "pygments_lexer": "ipython3",
   "version": "3.6.9"
  }
 },
 "nbformat": 4,
 "nbformat_minor": 2
}

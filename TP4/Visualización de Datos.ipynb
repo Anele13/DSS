{
 "cells": [
  {
   "cell_type": "markdown",
   "metadata": {},
   "source": [
    "### Visualización Pasiva\n",
    "Los puntos 1 y 2 deben ser entregados en formato ipynb.\n",
    "\n",
    "1) Tomando los datos de Covid-19 en Argentina transformados en el TP3, analizar y justificar el siguiente desarrollo en función del Modelo Unificado de Visualización:\n",
    "- Graficar las curvas de crecimiento de casos totales para las 10 provincias con mayor cantidad de casos.\n",
    "- Calcular la penetración de casos (casos cada 100 mil hab.) por provincia y grafique la curva de crecimiento para las 10 provincias con mayor penetración. Comparar los gráficos con el punto anterior.\n",
    "- Analizar varias relaciones entre dos variables buscando información valiosa. Por ejemplo, cantidad de casos vs  población total, o vs densidad demográfica, etc.\n",
    "- Comparar gráficos y sacar conclusiones.\n",
    "\n",
    "2) Graficar en un mapa del país, un círculo por cada provincia que cuenta con casos de Covid-19 registrados.\n",
    "- Indicar la cantidad de casos con un círculo de diferente tamaño.\n",
    "- Indicar la penetración de casos por provincia utilizando una gama de colores para cada círculo."
   ]
  },
  {
   "cell_type": "code",
   "execution_count": null,
   "metadata": {},
   "outputs": [],
   "source": [
    "def get_color(cant_casos, casos_provincia):\n",
    "    \"\"\"\n",
    "    Devuelve un codigo hexadecimal del color dentro de la gama rojo-amarillo\n",
    "    \"\"\"\n",
    "    tope_gama = 150\n",
    "    salto = round(tope_gama/len(cant_casos))\n",
    "    indice = cant_casos.index(casos_provincia)\n",
    "    return '#%02x%02x%02x' % (254, tope_gama - (salto*indice), 49)"
   ]
  },
  {
   "cell_type": "code",
   "execution_count": null,
   "metadata": {},
   "outputs": [],
   "source": [
    "def cambiar_nombre(nombre):\n",
    "    \"\"\"\n",
    "    Unifica los nombres de las provincias en los df para poder mergear\n",
    "    \"\"\"\n",
    "    if (\"Provincia de\" in nombre):\n",
    "        return \" \".join(nombre.split(\" \")[2:])\n",
    "    else: #Ciudad autonoma de Buenos aires\n",
    "        return \"CABA\""
   ]
  },
  {
   "cell_type": "code",
   "execution_count": null,
   "metadata": {},
   "outputs": [],
   "source": [
    "def top_10_casos_confirmados(df):\n",
    "    \"\"\"\n",
    "    Devuelve la lista de 10 provincias con mas casos confirmados\n",
    "    \"\"\"\n",
    "    #Agrupo el df por provincia y me quedo con los valores mas altos de casos\n",
    "    idx = df.groupby(['provincia'])['tot_casosconf'].transform(max) == df['tot_casosconf']\n",
    "    df = df[idx]\n",
    "    return df.sort_values(by='tot_casosconf', ascending=True).provincia.to_list()[:10]"
   ]
  },
  {
   "cell_type": "code",
   "execution_count": null,
   "metadata": {},
   "outputs": [],
   "source": [
    "def top_10_penetracion(df):\n",
    "    \"\"\"\n",
    "    Devuelve la lista de 10 provincias con mas casos por penetracion de habitantes\n",
    "    \"\"\"\n",
    "    #Agrupo el df por provincia y me quedo con los valores mas altos de casos\n",
    "    idx = df.groupby(['provincia'])['penetracion_casos'].transform(max) == df['penetracion_casos']\n",
    "    df = df[idx]\n",
    "    return df.sort_values(by='penetracion_casos', ascending=True).provincia.to_list()[:10]"
   ]
  },
  {
   "cell_type": "code",
   "execution_count": null,
   "metadata": {},
   "outputs": [],
   "source": [
    "def calcular_penetracion(tot_poblacion, tot_casos):\n",
    "    return round(tot_casos/1000)"
   ]
  },
  {
   "cell_type": "code",
   "execution_count": null,
   "metadata": {},
   "outputs": [],
   "source": [
    "def armar_grafico(df, agrupamiento):\n",
    "    \"\"\"\n",
    "    Muestra los graficos por provincia\n",
    "    \"\"\"\n",
    "    df = df.drop_duplicates(['fecha','provincia'])\n",
    "    r=df.pivot(index='fecha',columns='provincia', values=[agrupamiento])\n",
    "    r.columns = r.columns.droplevel(0)\n",
    "    r = r.reset_index().rename_axis(None, axis=1)\n",
    "    r = r.set_index(['fecha'])\n",
    "    r.index = pd.to_datetime(r.index)\n",
    "    r.iloc[0] = 0\n",
    "\n",
    "    #Armamos una figura\n",
    "    fig = go.Figure()\n",
    "    fig.add_trace(go.Scatter(x=r.index,y=r[r.columns[0]], visible=True))\n",
    "    updatemenu = []\n",
    "    buttons = []\n",
    "\n",
    "    # Creamos un boton para cada provincia en el dataframe\n",
    "    for col in r.columns:\n",
    "        buttons.append(dict(method='restyle',\n",
    "                            label=col,\n",
    "                            visible=True,\n",
    "                            args=[{'y':[r[col]],\n",
    "                                   'x':[r.index],\n",
    "                                   'type':'scatter'}, [0]],\n",
    "                            )\n",
    "                      )\n",
    "\n",
    "    #Ultimos retoques de visualizacion\n",
    "    updatemenu = []\n",
    "    menu = dict()\n",
    "    updatemenu.append(menu)\n",
    "\n",
    "    updatemenu[0]['buttons'] = buttons\n",
    "    updatemenu[0]['direction'] = 'down'\n",
    "    updatemenu[0]['showactive'] = True\n",
    "\n",
    "    #Agregagos los botones filtro a la figura\n",
    "    fig.update_layout(showlegend=False, updatemenus=updatemenu)\n",
    "    return fig"
   ]
  },
  {
   "cell_type": "code",
   "execution_count": null,
   "metadata": {},
   "outputs": [],
   "source": [
    "import pandas as pd\n",
    "import numpy as np\n",
    "#Mapas por provincia\n",
    "import plotly.graph_objects as go\n",
    "from datetime import datetime\n",
    "\n",
    "#leemos los datos\n",
    "df_covid =pd.read_csv('export')\n",
    "df_covid2= pd.read_json('pop_provs.json')\n",
    "\n",
    "#Reemplazar los nombres que dicen \"Provincia de ..\" dejando solo el nombre de la provincia. Para poder mergear\n",
    "df_covid2.name = df_covid2.name.apply(lambda row: cambiar_nombre(row))\n",
    "\n",
    "#luego de preparadas las columnas de nombres de provincia en ambos dataframes, podemos joinear.\n",
    "df_covid.fecha = df_covid.fecha.apply(lambda row: datetime.strptime(row, '%d/%m/%Y'))\n",
    "\n",
    "#Renombramos algunas columnas\n",
    "df_covid.rename(columns={'osm_admin_level_4':'provincia'}, inplace=True)\n",
    "df_covid2.rename(columns={'name':'provincia'}, inplace=True)\n",
    "\n",
    "#Borro la fila de provincia que dice \"Indeterminado\"\n",
    "df_covid = df_covid[df_covid.provincia != 'Indeterminado']\n",
    "\n",
    "#Listo los df para mergear\n",
    "resultado = df_covid.merge(df_covid2, left_on='provincia', right_on='provincia')\n",
    "\n",
    "#Calulamos la penetracion de casos para cada provincia en cada fecha\n",
    "resultado['penetracion_casos'] = resultado.apply(lambda row: calcular_penetracion(row.total_pop, row.tot_casosconf), axis=1)\n",
    "\n",
    "#Obtengo las 10 provincias con mas casos confirmados\n",
    "top_10_casos = top_10_casos_confirmados(resultado)\n",
    "\n",
    "#Obtengo las 10 provincias con mayor penetracion de casos\n",
    "top_10_mayor_penetracion = top_10_penetracion(resultado)\n",
    "\n",
    "#Obtenemos solo el top10 con mas casos\n",
    "resultado1 = resultado.loc[resultado.provincia.isin(top_10_casos)]\n",
    "\n",
    "#Obtenemos solo el top10 con mayor penetracion\n",
    "resultado2 = resultado.loc[resultado.provincia.isin(top_10_mayor_penetracion)]"
   ]
  },
  {
   "cell_type": "markdown",
   "metadata": {},
   "source": [
    "### TOP 10 Provincias con mas casos confirmados"
   ]
  },
  {
   "cell_type": "code",
   "execution_count": null,
   "metadata": {
    "scrolled": true
   },
   "outputs": [],
   "source": [
    "figura1 = armar_grafico(resultado1,'tot_casosconf')\n",
    "figura1"
   ]
  },
  {
   "cell_type": "markdown",
   "metadata": {},
   "source": [
    "### TOP 10 Provincias con mayor penetracion de casos"
   ]
  },
  {
   "cell_type": "code",
   "execution_count": null,
   "metadata": {
    "scrolled": true
   },
   "outputs": [],
   "source": [
    "figura2 = armar_grafico(resultado2,'penetracion_casos')\n",
    "figura2"
   ]
  },
  {
   "cell_type": "markdown",
   "metadata": {},
   "source": [
    "Del resultado de los graficos podemos observar que el crecimiento de las curvas es bastante similar en ambos graficos(total de casos confirmados y de casos por cada 1000 mil habitantes)\n",
    "Ademas se puede ver que las provincias con mas penetracion de casos cada 1000 mil habitantes tienen casi la misma cantidad de penetracion por persona a pesar de tener distinas densidades demograficas."
   ]
  },
  {
   "cell_type": "markdown",
   "metadata": {},
   "source": [
    "### Visualizacion pasiva"
   ]
  },
  {
   "cell_type": "code",
   "execution_count": null,
   "metadata": {
    "scrolled": true
   },
   "outputs": [],
   "source": [
    "def crear_circulos(df_datos, need_color=False):\n",
    "    \"\"\"\n",
    "    Crea los circulos similares a puntos de interes dentro del mapa con radio\n",
    "    acorde a la cantidad de casos confirmados.\n",
    "    \"\"\"\n",
    "    r = []\n",
    "    constante = 1\n",
    "    lista_casos_confirmados = sorted(df_datos.tot_casosconf.to_list())\n",
    "    df_datos=df_datos[['coordenadas','tot_casosconf']]\n",
    "    \n",
    "    for d in df_datos.itertuples():\n",
    "        coordenadas = [float(d.coordenadas.split(',')[0]), float(d.coordenadas.split(',')[1])]\n",
    "        radio = d.tot_casosconf * constante\n",
    "        circulo = folium.Circle(location = coordenadas,\n",
    "                            radius = radio,\n",
    "                            color = get_color(lista_casos_confirmados,d.tot_casosconf) if need_color else '#3186cc',\n",
    "                            fill = True,\n",
    "                            fill_color =get_color(lista_casos_confirmados,d.tot_casosconf) if need_color else '#3186cc').add_child(folium.Popup('Casos Confirmados: '+ str(d.tot_casosconf)))\n",
    "        r.append(circulo)\n",
    "    return r"
   ]
  },
  {
   "cell_type": "code",
   "execution_count": null,
   "metadata": {},
   "outputs": [],
   "source": [
    "def crear_mapa_argentina(df,need_color=False):\n",
    "    \"\"\"\n",
    "    Crea el mapa de argentina con circulos por provincia del tamaño acorde\n",
    "    a la cantidad de casos confirmados por provincia\n",
    "    \"\"\"\n",
    "    points = [(-34.6083, -58.3712)] #Argentina-BuenosAires\n",
    "    style2 = {'fillColor': '#8c96c6', 'color': '#787878', 'weight': 1.5, 'fillOpacity': 0.7}\n",
    "    county_geojson = json.load(open('provincia.json'))\n",
    "    \n",
    "    m1 = folium.Map(location=points[0], zoom_start=5)\n",
    "    folium.GeoJson(county_geojson,style_function=lambda x:style2).add_to(m1)\n",
    "    lista_circulos = crear_circulos(datos, need_color)\n",
    "    for circulo in lista_circulos:\n",
    "        circulo.add_to(m1)\n",
    "    return m1"
   ]
  },
  {
   "cell_type": "code",
   "execution_count": null,
   "metadata": {
    "scrolled": true
   },
   "outputs": [],
   "source": [
    "import json\n",
    "import folium\n",
    "import numpy as np\n",
    "from geopy.distance import geodesic\n",
    "\n",
    "#Agrupo el df por provincia y me quedo con los valores mas altos de casos\n",
    "idx = resultado.groupby(['provincia'])['tot_casosconf'].transform(max) == resultado['tot_casosconf']\n",
    "df = resultado[idx]\n",
    "\n",
    "#Abro el csv de coordenadas\n",
    "df_coordenadas = pd.read_csv('coordenadas.csv', delimiter=';')\n",
    "\n",
    "#Merge\n",
    "datos =df.merge(df_coordenadas, left_on='provincia', right_on='provincia')"
   ]
  },
  {
   "cell_type": "code",
   "execution_count": null,
   "metadata": {},
   "outputs": [],
   "source": [
    "#Obtenemos graficos\n",
    "crear_mapa_argentina(datos)"
   ]
  },
  {
   "cell_type": "code",
   "execution_count": null,
   "metadata": {},
   "outputs": [],
   "source": [
    "#Obtenemos graficos\n",
    "crear_mapa_argentina(datos, True)"
   ]
  }
 ],
 "metadata": {
  "kernelspec": {
   "display_name": "Python 3",
   "language": "python",
   "name": "python3"
  },
  "language_info": {
   "codemirror_mode": {
    "name": "ipython",
    "version": 3
   },
   "file_extension": ".py",
   "mimetype": "text/x-python",
   "name": "python",
   "nbconvert_exporter": "python",
   "pygments_lexer": "ipython3",
   "version": "3.6.9"
  }
 },
 "nbformat": 4,
 "nbformat_minor": 2
}
